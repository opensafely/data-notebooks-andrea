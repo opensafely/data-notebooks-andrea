{
 "cells": [
  {
   "cell_type": "markdown",
   "metadata": {},
   "source": [
    "# Raw data checks for Waiting List Data - OpenPathways\n",
    "\n",
    "### Tables\n",
    "The waiting list data consists of 3 tables:\n",
    "* WL_ClockStops\n",
    "* WL_Diagnostics\n",
    "* WL_OpenPathways\n",
    "\n",
    "### Background and documentation\n",
    "* [Github issue](https://github.com/opensafely-core/cohort-extractor/issues/783)\n",
    "* [Background](https://docs.google.com/document/d/1kVF7hPhy8vv2_tA2aRv3j36Na9fD8YlE6Mj3KbUFx4o/edit)\n",
    "* [Schema description](https://docs.google.com/spreadsheets/d/1A1h6WGKXzh8Wy4qPMz4W2K7BrAIsSSMC/edit#gid=438381057)\n",
    "* [Recording and reporting guidelines](https://www.england.nhs.uk/statistics/wp-content/uploads/sites/2/2021/05/Recording-and-Reporting-guidance-April_2021.pdf)\n",
    "\n",
    "### Methods\n",
    "The waiting list dataset has been linked to patients in OpenSAFELY-TPP, covering 40% of England's population.\n",
    "\n",
    "This notebook focuses on the WL_OpenPathways table, which is expected to represent patients on a waiting list at a given point in time.\n",
    "\n",
    "NHS England receives a weekly “Waiting List Minimum Dataset” (WL MDS) that is loaded on to the NCDR.  The waiting list data includes patients/pathways currently subject to Referral to Treatment (RTT) monitoring, as well as those not included. "
   ]
  },
  {
   "cell_type": "code",
   "execution_count": null,
   "metadata": {
    "lines_to_next_cell": 2
   },
   "outputs": [],
   "source": [
    "import sys\n",
    "import os\n",
    "import pandas as pd\n",
    "import numpy as np\n",
    "import matplotlib.pyplot as plt\n",
    "import matplotlib.dates as mdates\n",
    "import datetime as dt\n",
    "from pandas.plotting import register_matplotlib_converters\n",
    "register_matplotlib_converters()\n",
    "from IPython.display import HTML\n",
    "from IPython.display import Markdown as md\n",
    "from IPython.core.display import HTML as Center\n",
    "from IPython.display import Image, display\n",
    "%matplotlib inline\n",
    "import pyodbc\n",
    "from datetime import date, datetime\n",
    "\n",
    "sys.path.append('../analysis/')\n",
    "# from utilities import *\n",
    "from sense_checking import *\n",
    "from config_wl import tables_to_describe, duplicates, schema_filter\n",
    "from utilities import *\n",
    "from as_code import *\n",
    "\n",
    "pd.set_option('display.max_colwidth', 250)\n",
    "\n",
    "# get the server credentials\n",
    "dbconn = os.environ.get('FULL_DATABASE_URL', None).strip('\"')\n",
    "# limit to WL_OpenPathways\n",
    "tables = list(tables_to_describe[\"tables\"].keys())\n",
    "table = tables[2]\n"
   ]
  },
  {
   "cell_type": "code",
   "execution_count": null,
   "metadata": {},
   "outputs": [],
   "source": [
    "display(\n",
    "md(f'''**This notebook was run on {date.today().strftime('%Y-%m-%d')}\n",
    "    and reflects the dataset at this date, \n",
    "    but has been filtered to `{schema_filter}`.**\n",
    "    ''')\n",
    ")"
   ]
  },
  {
   "cell_type": "markdown",
   "metadata": {},
   "source": [
    "## Total row count (Unfiltered table)"
   ]
  },
  {
   "cell_type": "code",
   "execution_count": null,
   "metadata": {},
   "outputs": [],
   "source": [
    "total_counts(dbconn, table=table, where=\"\")"
   ]
  },
  {
   "cell_type": "markdown",
   "metadata": {},
   "source": [
    "## Exploration of Week_Ending_Date\n",
    "### Total row counts by Week_Ending_Date\n",
    "\n",
    "#### Weekly count percentiles"
   ]
  },
  {
   "cell_type": "code",
   "execution_count": null,
   "metadata": {},
   "outputs": [],
   "source": [
    "dat = simple_sql_dt(dbconn, table, col=\"Week_Ending_Date\", cnt=\"count(*)\", where=schema_filter, start='2021-05-01', end='2022-06-01')\n",
    "pct(dat.row_count)"
   ]
  },
  {
   "cell_type": "markdown",
   "metadata": {},
   "source": [
    "#### Counts by month"
   ]
  },
  {
   "cell_type": "code",
   "execution_count": null,
   "metadata": {},
   "outputs": [],
   "source": [
    "dat['Month']=dat['Week_Ending_Date'].values.astype('datetime64[M]')\n",
    "dat_mon=dat.groupby(['Month'])['row_count'].sum().reset_index(name='row_count')\n",
    "print(dat_mon)"
   ]
  },
  {
   "cell_type": "markdown",
   "metadata": {},
   "source": [
    "#### Histogram of counts by month"
   ]
  },
  {
   "cell_type": "code",
   "execution_count": null,
   "metadata": {},
   "outputs": [],
   "source": [
    "ax=plt.subplot(111)\n",
    "ax.bar(dat_mon.Month,dat_mon.row_count,width=10)\n",
    "ax.xaxis_date()\n",
    "plt.gcf().autofmt_xdate()\n",
    "plt.show()"
   ]
  },
  {
   "cell_type": "markdown",
   "metadata": {},
   "source": [
    "### Number of patients by week"
   ]
  },
  {
   "cell_type": "code",
   "execution_count": null,
   "metadata": {},
   "outputs": [],
   "source": [
    "dat = simple_sql_dt(dbconn, table, col=\"Week_Ending_Date\", cnt=\"count(distinct Patient_ID)\", where=schema_filter, start='2021-05-01', end='2022-06-01')\n",
    "pct(dat.row_count)"
   ]
  },
  {
   "cell_type": "markdown",
   "metadata": {},
   "source": [
    "### Number of referral identifiers by week"
   ]
  },
  {
   "cell_type": "code",
   "execution_count": null,
   "metadata": {},
   "outputs": [],
   "source": [
    "dat = simple_sql_dt(dbconn, table, col=\"Week_Ending_Date\", cnt=\"count(distinct Pseudo_Referral_Identifier)\", where=schema_filter, start='2021-05-01', end='2022-06-01')\n",
    "pct(dat.row_count)"
   ]
  },
  {
   "cell_type": "markdown",
   "metadata": {},
   "source": [
    "### Number of pathway IDs by week"
   ]
  },
  {
   "cell_type": "code",
   "execution_count": null,
   "metadata": {},
   "outputs": [],
   "source": [
    "dat = simple_sql_dt(dbconn, table, col=\"Week_Ending_Date\", cnt=\"count(distinct PSEUDO_PATIENT_PATHWAY_IDENTIFIER)\", where=schema_filter, start='2021-05-01', end='2022-06-01')\n",
    "pct(dat.row_count)"
   ]
  },
  {
   "cell_type": "markdown",
   "metadata": {},
   "source": [
    "## Extract latest record for each individual"
   ]
  },
  {
   "cell_type": "code",
   "execution_count": null,
   "metadata": {},
   "outputs": [],
   "source": [
    "last = max_date(dbconn, table=table, where=schema_filter, start='2021-05-01', end='2022-06-01')"
   ]
  },
  {
   "cell_type": "markdown",
   "metadata": {},
   "source": [
    "#### Most common maximum dates"
   ]
  },
  {
   "cell_type": "code",
   "execution_count": null,
   "metadata": {},
   "outputs": [],
   "source": [
    "last.sort_values(\"row_count\",ascending=False,inplace=True)\n",
    "last = suppress_and_round2(last,field=\"row_count\",keep=False)\n",
    "last.head(10)"
   ]
  },
  {
   "cell_type": "markdown",
   "metadata": {},
   "source": [
    "## Referral request received date\n",
    "### Number of pathways by referral year\n",
    "Using pathways that ended on 2022-05-01.\n",
    "Restricted to referral years >=1999."
   ]
  },
  {
   "cell_type": "code",
   "execution_count": null,
   "metadata": {},
   "outputs": [],
   "source": [
    "by_year(dbconn, table, col=\"REFERRAL_REQUEST_RECEIVED_DATE\", cnt=\"count(distinct PSEUDO_PATIENT_PATHWAY_IDENTIFIER)\", where=schema_filter)"
   ]
  },
  {
   "cell_type": "markdown",
   "metadata": {},
   "source": [
    "## Referral_to_Treatment start date\n",
    "### Number of pathways by RTT year\n",
    "Using pathways that ended on 2022-05-01."
   ]
  },
  {
   "cell_type": "code",
   "execution_count": null,
   "metadata": {},
   "outputs": [],
   "source": [
    "by_year(dbconn, table, col=\"REFERRAL_TO_TREATMENT_PERIOD_START_DATE\", cnt=\"count(distinct PSEUDO_PATIENT_PATHWAY_IDENTIFIER)\", where=schema_filter)"
   ]
  },
  {
   "cell_type": "markdown",
   "metadata": {},
   "source": [
    "## Current Pathway Period Start date"
   ]
  },
  {
   "cell_type": "markdown",
   "metadata": {},
   "source": [
    "### Number of pathways by Current Pathway year\n",
    "Using pathways that ended on 2022-05-01"
   ]
  },
  {
   "cell_type": "code",
   "execution_count": null,
   "metadata": {},
   "outputs": [],
   "source": [
    "by_year(dbconn, table, col=\"Current_Pathway_Period_Start_Date\", cnt=\"count(distinct PSEUDO_PATIENT_PATHWAY_IDENTIFIER)\", where=schema_filter)"
   ]
  },
  {
   "cell_type": "markdown",
   "metadata": {},
   "source": [
    "## Frequency distributions"
   ]
  },
  {
   "cell_type": "markdown",
   "metadata": {},
   "source": [
    "### Waiting_List_Type"
   ]
  },
  {
   "cell_type": "code",
   "execution_count": null,
   "metadata": {},
   "outputs": [],
   "source": [
    "freq_dist(dbconn,table,col='Waiting_List_Type',where=schema_filter)"
   ]
  },
  {
   "cell_type": "markdown",
   "metadata": {},
   "source": [
    "### Priority_Type_Code"
   ]
  },
  {
   "cell_type": "code",
   "execution_count": null,
   "metadata": {},
   "outputs": [],
   "source": [
    "freq_dist(dbconn,table,col='PRIORITY_TYPE_CODE',where=schema_filter)"
   ]
  },
  {
   "cell_type": "markdown",
   "metadata": {},
   "source": [
    "### Inclusion on Cancer PTL"
   ]
  },
  {
   "cell_type": "code",
   "execution_count": null,
   "metadata": {},
   "outputs": [],
   "source": [
    "freq_dist(dbconn,table,col='Inclusion_on_Cancer_PTL',where=schema_filter)"
   ]
  },
  {
   "cell_type": "markdown",
   "metadata": {},
   "source": [
    "### Outcome of Attendance Code"
   ]
  },
  {
   "cell_type": "code",
   "execution_count": null,
   "metadata": {},
   "outputs": [],
   "source": [
    "freq_dist(dbconn,table,col='OUTCOME_OF_ATTENDANCE_CODE',where=schema_filter)"
   ]
  },
  {
   "cell_type": "markdown",
   "metadata": {},
   "source": [
    "### Proposed Procedure Opcs code"
   ]
  },
  {
   "cell_type": "code",
   "execution_count": null,
   "metadata": {},
   "outputs": [],
   "source": [
    "freq = freq_dist(dbconn,table,col='Proposed_Procedure_Opcs_Code',where=schema_filter)\n",
    "freq.head(10)"
   ]
  },
  {
   "cell_type": "markdown",
   "metadata": {},
   "source": [
    "### Main Specialty Code"
   ]
  },
  {
   "cell_type": "code",
   "execution_count": null,
   "metadata": {},
   "outputs": [],
   "source": [
    "freq = freq_dist(dbconn,table,col='MAIN_SPECIALTY_CODE',where=schema_filter)\n",
    "freq.head(10)"
   ]
  },
  {
   "cell_type": "markdown",
   "metadata": {},
   "source": [
    "### Activity Treatment Activity Code"
   ]
  },
  {
   "cell_type": "code",
   "execution_count": null,
   "metadata": {},
   "outputs": [],
   "source": [
    "freq = freq_dist(dbconn,table,col='ACTIVITY_TREATMENT_FUNCTION_CODE',where=schema_filter)\n",
    "freq.head(10)"
   ]
  },
  {
   "cell_type": "markdown",
   "metadata": {},
   "source": [
    "### Procedure Priority Code"
   ]
  },
  {
   "cell_type": "code",
   "execution_count": null,
   "metadata": {},
   "outputs": [],
   "source": [
    "freq = freq_dist(dbconn,table,col='Procedure_Priority_Code',where=schema_filter)\n",
    "freq.head(10)"
   ]
  },
  {
   "cell_type": "markdown",
   "metadata": {},
   "source": [
    "### Diagnostic Priority Code"
   ]
  },
  {
   "cell_type": "code",
   "execution_count": null,
   "metadata": {},
   "outputs": [],
   "source": [
    "freq = freq_dist(dbconn,table,col='Diagnostic_Priority_Code',where=schema_filter)\n",
    "freq.head(10)"
   ]
  },
  {
   "cell_type": "markdown",
   "metadata": {},
   "source": [
    "### Outpatient Priority Code"
   ]
  },
  {
   "cell_type": "code",
   "execution_count": null,
   "metadata": {},
   "outputs": [],
   "source": [
    "freq = freq_dist(dbconn,table,col='Outpatient_Priority_Code',where=schema_filter)\n",
    "freq.head(10)"
   ]
  },
  {
   "cell_type": "markdown",
   "metadata": {},
   "source": [
    "## Date comparisons"
   ]
  },
  {
   "cell_type": "markdown",
   "metadata": {},
   "source": [
    "### Compare referral date and Week_Ending_Date"
   ]
  },
  {
   "cell_type": "code",
   "execution_count": null,
   "metadata": {},
   "outputs": [],
   "source": [
    "compare_two_values(dbconn, table=table, \n",
    "                   columns=[\"Week_Ending_Date\", \"REFERRAL_REQUEST_RECEIVED_DATE\"], \n",
    "                   threshold=1,\n",
    "                   where=\"Week_Ending_Date IS NOT NULL AND REFERRAL_REQUEST_RECEIVED_DATE IS NOT NULL\",\n",
    "                   include_counts=True)"
   ]
  },
  {
   "cell_type": "markdown",
   "metadata": {},
   "source": [
    "### Compare RTT date and Week_Ending_Date"
   ]
  },
  {
   "cell_type": "code",
   "execution_count": null,
   "metadata": {},
   "outputs": [],
   "source": [
    "compare_two_values(dbconn, table, \n",
    "                   columns=[\"Week_Ending_Date\",\"REFERRAL_TO_TREATMENT_PERIOD_START_DATE\"], \n",
    "                   threshold=1,\n",
    "                   where=\"Week_Ending_Date IS NOT NULL AND REFERRAL_TO_TREATMENT_PERIOD_START_DATE IS NOT NULL\",\n",
    "                   include_counts=True)"
   ]
  },
  {
   "cell_type": "markdown",
   "metadata": {},
   "source": [
    "### Compare Current Pathway Period start date and Week_Ending_Date"
   ]
  },
  {
   "cell_type": "code",
   "execution_count": null,
   "metadata": {},
   "outputs": [],
   "source": [
    "compare_two_values(dbconn, table=table, \n",
    "                   columns=[\"Week_Ending_Date\", \"Current_Pathway_Period_Start_Date\"], \n",
    "                   threshold=1,\n",
    "                   where=\"Week_Ending_Date IS NOT NULL AND Current_Pathway_Period_Start_Date IS NOT NULL\",\n",
    "                   include_counts=True)"
   ]
  },
  {
   "cell_type": "markdown",
   "metadata": {},
   "source": [
    "### Compare Due Date and Week_Ending Date"
   ]
  },
  {
   "cell_type": "code",
   "execution_count": null,
   "metadata": {},
   "outputs": [],
   "source": [
    "compare_two_values(dbconn, table, \n",
    "                   columns=[\"Week_Ending_Date\",\"Due_Date\"], \n",
    "                   threshold=1,\n",
    "                   where=\"Week_Ending_Date IS NOT NULL\",\n",
    "                   include_counts=True)"
   ]
  },
  {
   "cell_type": "markdown",
   "metadata": {},
   "source": [
    "### Compare Cancellation date and Week_Ending_Date"
   ]
  },
  {
   "cell_type": "code",
   "execution_count": null,
   "metadata": {},
   "outputs": [],
   "source": [
    "compare_two_values(dbconn, table, \n",
    "                   columns=[\"Week_Ending_Date\",\"CANCELLATION_DATE\"], \n",
    "                   threshold=1,\n",
    "                   where=\"Week_Ending_Date IS NOT NULL\",\n",
    "                   include_counts=True)"
   ]
  }
 ],
 "metadata": {
  "jupytext": {
   "cell_metadata_filter": "all",
   "encoding": "# -*- coding: utf-8 -*-",
   "notebook_metadata_filter": "all,-language_info",
   "text_representation": {
    "extension": ".py",
    "format_name": "light",
    "format_version": "1.5",
    "jupytext_version": "1.3.3"
   }
  },
  "kernelspec": {
   "display_name": "Python 3",
   "language": "python",
   "name": "python3"
  },
  "language_info": {
   "codemirror_mode": {
    "name": "ipython",
    "version": 3
   },
   "file_extension": ".py",
   "mimetype": "text/x-python",
   "name": "python",
   "nbconvert_exporter": "python",
   "pygments_lexer": "ipython3",
   "version": "3.8.1"
  }
 },
 "nbformat": 4,
 "nbformat_minor": 4
}
