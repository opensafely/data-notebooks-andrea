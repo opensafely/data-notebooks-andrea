{
 "cells": [
  {
   "cell_type": "markdown",
   "metadata": {},
   "source": [
    "# Raw data checks for Waiting List Data - OpenPathways\n",
    "\n",
    "### Tables\n",
    "The waiting list data consists of 3 tables:\n",
    "* WL_ClockStops\n",
    "* WL_Diagnostics\n",
    "* WL_OpenPathways\n",
    "\n",
    "### Background and documentation\n",
    "* [Github issue](https://github.com/opensafely-core/cohort-extractor/issues/783)\n",
    "* [Background](https://docs.google.com/document/d/1kVF7hPhy8vv2_tA2aRv3j36Na9fD8YlE6Mj3KbUFx4o/edit)\n",
    "* [Schema description](https://docs.google.com/spreadsheets/d/1A1h6WGKXzh8Wy4qPMz4W2K7BrAIsSSMC/edit#gid=438381057)\n",
    "* [Recording and reporting guidelines](https://www.england.nhs.uk/statistics/wp-content/uploads/sites/2/2021/05/Recording-and-Reporting-guidance-April_2021.pdf)\n",
    "\n",
    "### Methods\n",
    "The waiting list dataset has been linked to patients in OpenSAFELY-TPP, covering 40% of England's population.\n",
    "\n",
    "This notebook focuses on the WL_OpenPathways table, which is expected to represent patients on a waiting list at a given point in time. A subset of the population has been generated for exploration purposes, such as determining whether key columns are consistent over the pathway.\n",
    "\n",
    "NHS England receives a weekly “Waiting List Minimum Dataset” (WL MDS) that is loaded on to the NCDR.  The waiting list data includes patients/pathways currently subject to Referral to Treatment (RTT) monitoring, as well as those not included. \n"
   ]
  },
  {
   "cell_type": "code",
   "execution_count": null,
   "metadata": {
    "lines_to_next_cell": 2
   },
   "outputs": [],
   "source": [
    "import sys\n",
    "import os\n",
    "import pandas as pd\n",
    "import numpy as np\n",
    "import matplotlib.pyplot as plt\n",
    "import matplotlib.dates as mdates\n",
    "import datetime as dt\n",
    "from pandas.plotting import register_matplotlib_converters\n",
    "register_matplotlib_converters()\n",
    "from IPython.display import HTML\n",
    "from IPython.display import Markdown as md\n",
    "from IPython.core.display import HTML as Center\n",
    "from IPython.display import Image, display\n",
    "%matplotlib inline\n",
    "import pyodbc\n",
    "from datetime import date, datetime\n",
    "\n",
    "sys.path.append('../analysis/')\n",
    "# from utilities import *\n",
    "from sense_checking import *\n",
    "from config_wl import tables_to_describe, duplicates, schema_filter\n",
    "from utilities import *\n",
    "from as_code import *\n",
    "\n",
    "pd.set_option('display.max_colwidth', 250)\n",
    "\n",
    "# get the server credentials\n",
    "dbconn = os.environ.get('FULL_DATABASE_URL', None).strip('\"')\n",
    "# limit to WL_OpenPathways\n",
    "tables = list(tables_to_describe[\"tables\"].keys())\n",
    "table = tables[2]\n",
    "# columns of interest\n",
    "columns = [\"Patient_ID\",\n",
    "    \"Week_Ending_Date\",\n",
    "    \"Waiting_List_Type\",\n",
    "    \"REFERRAL_REQUEST_RECEIVED_DATE\",\n",
    "    \"REFERRAL_TO_TREATMENT_PERIOD_START_DATE\",\n",
    "    \"Current_Pathway_Period_Start_Date\",\n",
    "    \"Proposed_Procedure_Opcs_Code\",\n",
    "    \"Pseudo_Referral_Identifier\",\n",
    "    \"PSEUDO_PATIENT_PATHWAY_IDENTIFIER\",\n",
    "    \"PSEUDO_ORGANISATION_CODE_PATIENT_PATHWAY_IDENTIFIER_ISSUER\"\n",
    "]"
   ]
  },
  {
   "cell_type": "code",
   "execution_count": null,
   "metadata": {},
   "outputs": [],
   "source": [
    "display(\n",
    "md(f'''**This notebook was run on {date.today().strftime('%Y-%m-%d')}\n",
    "    and reflects the dataset at this date.**\n",
    "    ''')\n",
    ")"
   ]
  },
  {
   "cell_type": "markdown",
   "metadata": {},
   "source": [
    "## Create sample of data based on Patient_ID\n",
    "\n",
    "Select all patients where last two ID digits are 10 or 11. In theory this should represent a 1% sample. "
   ]
  },
  {
   "cell_type": "code",
   "execution_count": null,
   "metadata": {},
   "outputs": [],
   "source": [
    "samp = sample(dbconn,columns=columns,table=table,where=\"where right(Patient_ID,2) = 98\")\n",
    "samp['Week_Ending_Date'] = pd.to_datetime(samp['Week_Ending_Date'], format='%Y-%m-%d',errors=\"coerce\")     \n",
    "samp = samp[(samp['Week_Ending_Date']<'2022-06-01') & (samp['REFERRAL_REQUEST_RECEIVED_DATE']>'2021-05-01')]"
   ]
  },
  {
   "cell_type": "markdown",
   "metadata": {},
   "source": [
    "### Number of unique values in sample"
   ]
  },
  {
   "cell_type": "code",
   "execution_count": null,
   "metadata": {},
   "outputs": [],
   "source": [
    "samp.nunique()"
   ]
  },
  {
   "cell_type": "markdown",
   "metadata": {},
   "source": [
    "### Number of Weeks that appear per unique Patient_ID/Pathway combination"
   ]
  },
  {
   "cell_type": "code",
   "execution_count": null,
   "metadata": {},
   "outputs": [],
   "source": [
    "samp2=samp.groupby(['Patient_ID',\"PSEUDO_PATIENT_PATHWAY_IDENTIFIER\"])['row_count'].sum().reset_index(name=\"week_cnt\")"
   ]
  },
  {
   "cell_type": "markdown",
   "metadata": {},
   "source": [
    "#### Percentiles of no. weeks"
   ]
  },
  {
   "cell_type": "code",
   "execution_count": null,
   "metadata": {},
   "outputs": [],
   "source": [
    "pct(samp2.week_cnt)"
   ]
  },
  {
   "cell_type": "markdown",
   "metadata": {},
   "source": [
    "#### Histogram of no. weeks \n",
    "\n",
    "Truncate at 52 weeks"
   ]
  },
  {
   "cell_type": "code",
   "execution_count": null,
   "metadata": {},
   "outputs": [],
   "source": [
    "hist=samp2.groupby([\"week_cnt\"])[\"week_cnt\"].count().reset_index(name=\"n\")\n",
    "hist=suppress_and_round2(hist, field=\"n\", keep=False)\n",
    "hist=hist[(hist[\"week_cnt\"]<53)]"
   ]
  },
  {
   "cell_type": "markdown",
   "metadata": {},
   "source": [
    "#### Frequency distribution for chart"
   ]
  },
  {
   "cell_type": "code",
   "execution_count": null,
   "metadata": {},
   "outputs": [],
   "source": [
    "display(hist)"
   ]
  },
  {
   "cell_type": "code",
   "execution_count": null,
   "metadata": {},
   "outputs": [],
   "source": [
    "# Plot of records over time\n",
    "ax=plt.subplot(111)\n",
    "ax.bar(hist.week_cnt,hist.n,width=1)\n",
    "plt.show()"
   ]
  },
  {
   "cell_type": "markdown",
   "metadata": {},
   "source": [
    "### Number of pathways per Patient_ID"
   ]
  },
  {
   "cell_type": "code",
   "execution_count": null,
   "metadata": {},
   "outputs": [],
   "source": [
    "samp2=samp.groupby(['Patient_ID'])[\"PSEUDO_PATIENT_PATHWAY_IDENTIFIER\"].nunique().reset_index(name=\"path_cnt\")"
   ]
  },
  {
   "cell_type": "markdown",
   "metadata": {},
   "source": [
    "#### Percentiles for no. pathways"
   ]
  },
  {
   "cell_type": "code",
   "execution_count": null,
   "metadata": {},
   "outputs": [],
   "source": [
    "pct(samp2.path_cnt)"
   ]
  },
  {
   "cell_type": "markdown",
   "metadata": {},
   "source": [
    "### Check if waiting_list_type changes over patient/pathway\n",
    "\n",
    "#### Percentiles for number of unique waiting list type by pathway"
   ]
  },
  {
   "cell_type": "code",
   "execution_count": null,
   "metadata": {},
   "outputs": [],
   "source": [
    "samp2=samp.groupby(['Patient_ID',\"PSEUDO_PATIENT_PATHWAY_IDENTIFIER\"])[\"Waiting_List_Type\"].nunique().reset_index(name=\"typ_cnt\")\n",
    "pct(samp2.typ_cnt)"
   ]
  },
  {
   "cell_type": "markdown",
   "metadata": {},
   "source": [
    "### Check if Referral Request date varies by patient/pathway\n",
    "\n",
    "#### Percentiles for number of unique referral dates by pathway"
   ]
  },
  {
   "cell_type": "code",
   "execution_count": null,
   "metadata": {},
   "outputs": [],
   "source": [
    "samp2=samp.groupby(['Patient_ID',\"PSEUDO_PATIENT_PATHWAY_IDENTIFIER\"])[\"REFERRAL_REQUEST_RECEIVED_DATE\"].nunique().reset_index(name=\"rrrd_cnt\")\n",
    "pct(samp2.rrrd_cnt)"
   ]
  },
  {
   "cell_type": "markdown",
   "metadata": {},
   "source": [
    "### Check if RTT date varies by pathway\n",
    "\n",
    "#### Percentiles for number of unique referral dates by pathway"
   ]
  },
  {
   "cell_type": "code",
   "execution_count": null,
   "metadata": {},
   "outputs": [],
   "source": [
    "samp2=samp.groupby(['Patient_ID',\"PSEUDO_PATIENT_PATHWAY_IDENTIFIER\"])[\"REFERRAL_TO_TREATMENT_PERIOD_START_DATE\"].nunique().reset_index(name=\"rrt_cnt\")\n",
    "pct(samp2.rrt_cnt)"
   ]
  },
  {
   "cell_type": "markdown",
   "metadata": {},
   "source": [
    "### Extract latest row (latest week) per patient/pathway\n"
   ]
  },
  {
   "cell_type": "code",
   "execution_count": null,
   "metadata": {},
   "outputs": [],
   "source": [
    "max = samp.sort_values('Week_Ending_Date',ascending=False).drop_duplicates(['Patient_ID','PSEUDO_PATIENT_PATHWAY_IDENTIFIER'])\n",
    "max['REFERRAL_REQUEST_RECEIVED_DATE'] = pd.to_datetime(max['REFERRAL_REQUEST_RECEIVED_DATE'], format='%Y-%m-%d',errors=\"coerce\")"
   ]
  },
  {
   "cell_type": "markdown",
   "metadata": {},
   "source": [
    "#### Num. unique patient/pathway combinations"
   ]
  },
  {
   "cell_type": "code",
   "execution_count": null,
   "metadata": {},
   "outputs": [],
   "source": [
    "len(max.index)"
   ]
  },
  {
   "cell_type": "markdown",
   "metadata": {},
   "source": [
    "#### Calculate difference between referral date and last date\n",
    "\n",
    "i.e. how long people have been on waiting list. Restrict to people with non-null values and non-negative values."
   ]
  },
  {
   "cell_type": "code",
   "execution_count": null,
   "metadata": {},
   "outputs": [],
   "source": [
    "max['Diff'] = 0\n",
    "max.loc[(pd.notnull(max['Week_Ending_Date'])) & pd.notnull(max['REFERRAL_REQUEST_RECEIVED_DATE']),'Diff'] = (max['Week_Ending_Date']-max['REFERRAL_REQUEST_RECEIVED_DATE']).dt.days\n",
    "max['Diff'] = max['Diff'].astype(int)\n",
    "max = max[(max['Diff']>=0)]\n",
    "\n",
    "pct(max.Diff)"
   ]
  },
  {
   "cell_type": "markdown",
   "metadata": {},
   "source": [
    "#### Histogram of time between referral and end date\n",
    "\n",
    "Note: display truncated at 52 weeks"
   ]
  },
  {
   "cell_type": "code",
   "execution_count": null,
   "metadata": {},
   "outputs": [],
   "source": [
    "hist=max.groupby([\"Diff\"])[\"Diff\"].count().reset_index(name=\"n\")\n",
    "hist=suppress_and_round2(hist, field=\"n\", keep=False)\n",
    "hist=hist[(hist[\"Diff\"]<53)]"
   ]
  },
  {
   "cell_type": "markdown",
   "metadata": {},
   "source": [
    "##### Frequency distribution for chart"
   ]
  },
  {
   "cell_type": "code",
   "execution_count": null,
   "metadata": {},
   "outputs": [],
   "source": [
    "display(hist)"
   ]
  },
  {
   "cell_type": "code",
   "execution_count": null,
   "metadata": {},
   "outputs": [],
   "source": [
    "# Plot of records over time\n",
    "ax=plt.subplot(111)\n",
    "ax.bar(hist.Diff,hist.n,width=1)\n",
    "plt.show()"
   ]
  }
 ],
 "metadata": {
  "jupytext": {
   "cell_metadata_filter": "all",
   "encoding": "# -*- coding: utf-8 -*-",
   "notebook_metadata_filter": "all,-language_info",
   "text_representation": {
    "extension": ".py",
    "format_name": "light",
    "format_version": "1.5",
    "jupytext_version": "1.3.3"
   }
  },
  "kernelspec": {
   "display_name": "Python 3",
   "language": "python",
   "name": "python3"
  },
  "language_info": {
   "codemirror_mode": {
    "name": "ipython",
    "version": 3
   },
   "file_extension": ".py",
   "mimetype": "text/x-python",
   "name": "python",
   "nbconvert_exporter": "python",
   "pygments_lexer": "ipython3",
   "version": "3.8.1"
  }
 },
 "nbformat": 4,
 "nbformat_minor": 5
}
